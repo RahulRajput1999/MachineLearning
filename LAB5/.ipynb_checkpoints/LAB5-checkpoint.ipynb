{
 "cells": [
  {
   "cell_type": "code",
   "execution_count": 4,
   "metadata": {
    "colab": {},
    "colab_type": "code",
    "id": "WsGCPTSLv_hK"
   },
   "outputs": [
    {
     "ename": "ModuleNotFoundError",
     "evalue": "No module named 'tensorflow'",
     "output_type": "error",
     "traceback": [
      "\u001b[0;31m---------------------------------------------------------------------------\u001b[0m",
      "\u001b[0;31mModuleNotFoundError\u001b[0m                       Traceback (most recent call last)",
      "\u001b[0;32m<ipython-input-4-a03b71d250e4>\u001b[0m in \u001b[0;36m<module>\u001b[0;34m\u001b[0m\n\u001b[1;32m      1\u001b[0m \u001b[0;32mimport\u001b[0m \u001b[0mnumpy\u001b[0m \u001b[0;32mas\u001b[0m \u001b[0mnp\u001b[0m\u001b[0;34m\u001b[0m\u001b[0;34m\u001b[0m\u001b[0m\n\u001b[0;32m----> 2\u001b[0;31m \u001b[0;32mimport\u001b[0m \u001b[0mtensorflow\u001b[0m \u001b[0;32mas\u001b[0m \u001b[0mtf\u001b[0m\u001b[0;34m\u001b[0m\u001b[0;34m\u001b[0m\u001b[0m\n\u001b[0m\u001b[1;32m      3\u001b[0m \u001b[0;32mimport\u001b[0m \u001b[0mmatplotlib\u001b[0m\u001b[0;34m.\u001b[0m\u001b[0mpyplot\u001b[0m \u001b[0;32mas\u001b[0m \u001b[0mplt\u001b[0m\u001b[0;34m\u001b[0m\u001b[0;34m\u001b[0m\u001b[0m\n\u001b[1;32m      4\u001b[0m \u001b[0;32mfrom\u001b[0m \u001b[0msklearn\u001b[0m\u001b[0;34m.\u001b[0m\u001b[0mdatasets\u001b[0m \u001b[0;32mimport\u001b[0m \u001b[0mload_boston\u001b[0m\u001b[0;34m\u001b[0m\u001b[0;34m\u001b[0m\u001b[0m\n\u001b[1;32m      5\u001b[0m \u001b[0;32mimport\u001b[0m \u001b[0mpandas\u001b[0m \u001b[0;32mas\u001b[0m \u001b[0mpd\u001b[0m\u001b[0;34m\u001b[0m\u001b[0;34m\u001b[0m\u001b[0m\n",
      "\u001b[0;31mModuleNotFoundError\u001b[0m: No module named 'tensorflow'"
     ]
    }
   ],
   "source": [
    "import numpy as np\n",
    "import tensorflow as tf\n",
    "import matplotlib.pyplot as plt\n",
    "from sklearn.datasets import load_boston\n",
    "import pandas as pd\n",
    "import seaborn as sns"
   ]
  },
  {
   "cell_type": "code",
   "execution_count": null,
   "metadata": {
    "colab": {},
    "colab_type": "code",
    "id": "1z6YZG-Zwafl"
   },
   "outputs": [],
   "source": [
    "x = np.linspace(0,50,50)\n",
    "y = np.linspace(0,50,50)"
   ]
  },
  {
   "cell_type": "code",
   "execution_count": null,
   "metadata": {
    "colab": {},
    "colab_type": "code",
    "id": "lasiGqucwjWD"
   },
   "outputs": [],
   "source": [
    "x += np.random.uniform(-4, 4, 50)\n",
    "y += np.random.uniform(-4, 4, 50)\n",
    "n = len(x)"
   ]
  },
  {
   "cell_type": "code",
   "execution_count": null,
   "metadata": {
    "colab": {
     "base_uri": "https://localhost:8080/",
     "height": 295
    },
    "colab_type": "code",
    "id": "YUNic2dKwmV2",
    "outputId": "9cf308b6-c606-4c23-a29d-ae6d55e547b5"
   },
   "outputs": [],
   "source": [
    "plt.scatter(x, y, color='blue')\n",
    "plt.xlabel('x')\n",
    "plt.xlabel('y')\n",
    "plt.title(\"Training Data\")\n",
    "plt.show()"
   ]
  },
  {
   "cell_type": "code",
   "execution_count": null,
   "metadata": {
    "colab": {},
    "colab_type": "code",
    "id": "nbF6ge7Bwpbq"
   },
   "outputs": [],
   "source": [
    "X = tf.placeholder(tf.float32)\n",
    "Y = tf.placeholder(tf.float32)"
   ]
  },
  {
   "cell_type": "code",
   "execution_count": null,
   "metadata": {
    "colab": {},
    "colab_type": "code",
    "id": "oyaRazNRwsRD"
   },
   "outputs": [],
   "source": [
    "W = tf.Variable(np.random.randn(), name = \"W\")\n",
    "b = tf.Variable(np.random.randn(), name = \"b\")"
   ]
  },
  {
   "cell_type": "code",
   "execution_count": null,
   "metadata": {
    "colab": {},
    "colab_type": "code",
    "id": "0YbVP6UYwuIN"
   },
   "outputs": [],
   "source": [
    "learning_rate = 0.01\n",
    "training_epochs = 1500"
   ]
  },
  {
   "cell_type": "code",
   "execution_count": null,
   "metadata": {
    "colab": {},
    "colab_type": "code",
    "id": "37gDhf2SwvoC"
   },
   "outputs": [],
   "source": [
    "y_pred = tf.add(tf.multiply(X, W), b)\n",
    "cost = tf.div(tf.reduce_sum(tf.square(y_pred-Y)),(2 * n))\n",
    "optimizer = tf.train.GradientDescentOptimizer(learning_rate).minimize(cost)\n",
    "init = tf.global_variables_initializer()"
   ]
  },
  {
   "cell_type": "code",
   "execution_count": null,
   "metadata": {
    "colab": {
     "base_uri": "https://localhost:8080/",
     "height": 527
    },
    "colab_type": "code",
    "id": "lbe3VXMYw2xe",
    "outputId": "4a1a721c-768f-4c29-bff2-987425d62e9d"
   },
   "outputs": [],
   "source": [
    "with tf.Session() as sess:\n",
    "  merged = tf.summary.merge_all()\n",
    "  writer = tf.summary.FileWriter(\"logs\", sess.graph)\n",
    "  sess.run(init)\n",
    "  for epoch in range(training_epochs):\n",
    "    for (_x, _y) in zip(x, y):\n",
    "      sess.run(optimizer, feed_dict = {X : _x, Y : _y})\n",
    "    if (epoch+1) % 50 == 0:\n",
    "      c = sess.run(cost, feed_dict = {X : x, Y : y})\n",
    "      print(\"Epoch\", (epoch+1), \": cost =\", c, \"W =\", sess.run(W), \"b =\", sess.run(b))\n",
    "  training_cost = sess.run(cost, feed_dict ={X: x, Y: y})\n",
    "  weight = sess.run(W)\n",
    "  bias = sess.run(b)"
   ]
  },
  {
   "cell_type": "code",
   "execution_count": null,
   "metadata": {
    "colab": {
     "base_uri": "https://localhost:8080/",
     "height": 51
    },
    "colab_type": "code",
    "id": "Xvaxpz_vxces",
    "outputId": "0a426458-e7cb-4ae2-c6c0-6a0bdcf2ed76"
   },
   "outputs": [],
   "source": [
    "predictions = weight * x + bias\n",
    "print(\"Training cost =\", training_cost, \"Weight =\", weight, \"bias =\", bias, '\\n')"
   ]
  },
  {
   "cell_type": "code",
   "execution_count": null,
   "metadata": {
    "colab": {
     "base_uri": "https://localhost:8080/",
     "height": 281
    },
    "colab_type": "code",
    "id": "uTN2KkyTxu61",
    "outputId": "8a8c91e1-ef17-40c8-e229-fb3a0740fea7"
   },
   "outputs": [],
   "source": [
    "plt.plot(x, y,'ro', color = 'blue', label ='Original data')\n",
    "plt.plot(x, predictions, color = 'red', label ='Fitted line')\n",
    "plt.title('Linear Regression Result')\n",
    "plt.legend()\n",
    "plt.show()"
   ]
  },
  {
   "cell_type": "code",
   "execution_count": null,
   "metadata": {
    "colab": {
     "base_uri": "https://localhost:8080/",
     "height": 34
    },
    "colab_type": "code",
    "id": "VEEZVohexxiD",
    "outputId": "d027d599-e8f5-4b65-db70-06eb44dba792"
   },
   "outputs": [],
   "source": [
    "from sklearn.metrics import r2_score\n",
    "R2 = r2_score(y, predictions, multioutput='variance_weighted')\n",
    "print(\"R2 value:\",R2)"
   ]
  },
  {
   "cell_type": "code",
   "execution_count": null,
   "metadata": {
    "colab": {
     "base_uri": "https://localhost:8080/",
     "height": 34
    },
    "colab_type": "code",
    "id": "9nWU2os5yBzh",
    "outputId": "206ec1e3-1a31-4212-b51d-73cc2fbbc360"
   },
   "outputs": [],
   "source": [
    "'''\n",
    "Exercise 1:\n",
    "Predict Y values for given X values.\n",
    "'''\n",
    "predictions1 = weight * np.array([3.987, 19.235, 23.098, 36.5, 22.765]) + bias\n",
    "predictions1"
   ]
  },
  {
   "cell_type": "code",
   "execution_count": null,
   "metadata": {
    "colab": {
     "base_uri": "https://localhost:8080/",
     "height": 221
    },
    "colab_type": "code",
    "id": "PeguXgFNyn0v",
    "outputId": "0f9a6d1c-1299-42a9-d065-f0f48af7cebb"
   },
   "outputs": [],
   "source": [
    "'''\n",
    "Exercise 2:\n",
    "Change Stopping criterion to delta(J)<=0.000001\n",
    "'''\n",
    "with tf.Session() as sess:\n",
    "  merged = tf.summary.merge_all()\n",
    "  writer = tf.summary.FileWriter(\"logs\", sess.graph)\n",
    "  sess.run(init)\n",
    "  prev = 0.0\n",
    "  iters = 1\n",
    "  while(iters):\n",
    "    for (_x, _y) in zip(x, y):\n",
    "      sess.run(optimizer, feed_dict = {X : _x, Y : _y})\n",
    "    c = sess.run(cost, feed_dict = {X : x, Y : y})\n",
    "    if iters % 50 == 0:\n",
    "      print(\"Epoch\", (iters), \": cost =\", c, \"W =\", sess.run(W), \"b =\", sess.run(b))\n",
    "    if(abs(c-prev)<0.000001):\n",
    "      break\n",
    "    prev = c\n",
    "    iters+=1\n",
    "  training_cost = sess.run(cost, feed_dict ={X: x, Y: y})\n",
    "  weight = sess.run(W)\n",
    "  bias = sess.run(b)"
   ]
  },
  {
   "cell_type": "code",
   "execution_count": null,
   "metadata": {
    "colab": {},
    "colab_type": "code",
    "id": "btFmcKBgzkqy"
   },
   "outputs": [],
   "source": [
    "'''\n",
    "Exercise 3\n",
    "Diffrent alpha values for 1500 epoches:\n",
    "learning rate: 0.01 --> R2 value: 0.9618197718107743\n",
    "learning rate: 0.05 --> R2 value: -0.9297278609667908\n",
    "learning rate: 0.2 --> All values are Nan\n",
    "learning rate: 0.5 --> All values are Nan\n",
    "'''"
   ]
  },
  {
   "cell_type": "code",
   "execution_count": null,
   "metadata": {
    "colab": {
     "base_uri": "https://localhost:8080/",
     "height": 1000
    },
    "colab_type": "code",
    "id": "Hrrhn5Eg_p_p",
    "outputId": "bd5df540-8b86-458e-d5b2-8b3a562439f6"
   },
   "outputs": [],
   "source": [
    "boston = load_boston()\n",
    "df = pd.DataFrame(\n",
    "    data= np.c_[boston['data']],\n",
    "    columns= boston['feature_names'])\n",
    "df.insert(13,'target',boston['target'],True)\n",
    "print(boston['DESCR'])\n",
    "df.head()"
   ]
  },
  {
   "cell_type": "code",
   "execution_count": null,
   "metadata": {
    "colab": {
     "base_uri": "https://localhost:8080/",
     "height": 483
    },
    "colab_type": "code",
    "id": "1UWF05-bFErO",
    "outputId": "c91362ea-8051-4448-b9f6-8b34621d8cfa"
   },
   "outputs": [],
   "source": [
    "corr = df.corr()\n",
    "corr"
   ]
  },
  {
   "cell_type": "code",
   "execution_count": null,
   "metadata": {
    "colab": {
     "base_uri": "https://localhost:8080/",
     "height": 318
    },
    "colab_type": "code",
    "id": "Sz3qRq5VKx89",
    "outputId": "63062fc0-1583-40c0-963c-c008eef4e276"
   },
   "outputs": [],
   "source": [
    "sns.heatmap(corr,annot=True)"
   ]
  },
  {
   "cell_type": "code",
   "execution_count": null,
   "metadata": {
    "colab": {
     "base_uri": "https://localhost:8080/",
     "height": 281
    },
    "colab_type": "code",
    "id": "V3sFgZbKLbw9",
    "outputId": "71dc40c7-ba1f-43e2-fa1a-e89b8a3c67d0"
   },
   "outputs": [],
   "source": [
    "x1 = df[['LSTAT','RM','PTRATIO','CRIM','ZN','INDUS','CHAS','NOX','AGE','DIS','RAD','TAX','B']]\n",
    "y1 = df[['target']]\n",
    "n1 = len(x1)\n",
    "plt.plot(x1['LSTAT'], y1,'ro', color = 'blue', label ='LSTAT data')\n",
    "plt.plot(x1['RM'], y1,'ro', color = 'red', label ='RM data')\n",
    "plt.plot(x1['PTRATIO'], y1,'ro', color = 'green', label ='PTRATIO data')\n",
    "plt.plot(x1['CRIM'], y1,'ro', color = 'yellow', label ='CRIM data')\n",
    "plt.title('Correlation between LSTAT and PRICE')\n",
    "plt.legend()\n",
    "plt.show()"
   ]
  },
  {
   "cell_type": "code",
   "execution_count": null,
   "metadata": {
    "colab": {},
    "colab_type": "code",
    "id": "VhsyMjUGR0Z0"
   },
   "outputs": [],
   "source": [
    "from sklearn.linear_model import LinearRegression\n",
    "from sklearn.model_selection import train_test_split"
   ]
  },
  {
   "cell_type": "code",
   "execution_count": null,
   "metadata": {
    "colab": {
     "base_uri": "https://localhost:8080/",
     "height": 34
    },
    "colab_type": "code",
    "id": "b8z08gQwWdYd",
    "outputId": "11fc0a9b-08e6-4d15-c934-f4a33536286b"
   },
   "outputs": [],
   "source": [
    "x_train,x_test,y_train,y_test = train_test_split(x1,y1,test_size=0.2,random_state=5)\n",
    "regr = LinearRegression()\n",
    "regr.fit(x_train,y_train)"
   ]
  },
  {
   "cell_type": "code",
   "execution_count": null,
   "metadata": {
    "colab": {
     "base_uri": "https://localhost:8080/",
     "height": 1000
    },
    "colab_type": "code",
    "id": "uc9SaQimaxFO",
    "outputId": "14ed8a89-2367-465e-8a2f-dff4f89e93d4"
   },
   "outputs": [],
   "source": [
    "y_predict = regr.predict(x_test)\n",
    "r2 = r2_score(y_test,y_predict)\n",
    "print(\"R2 score is:\",format(r2))\n",
    "from sklearn.metrics import mean_squared_error \n",
    "mse = mean_squared_error(y_test, y_predict) \n",
    "print(\"Mean Square Error : \", mse)\n",
    "print(y_test.head())"
   ]
  }
 ],
 "metadata": {
  "colab": {
   "name": "Lab5.ipynb",
   "provenance": [],
   "version": "0.3.2"
  },
  "kernelspec": {
   "display_name": "Python 3",
   "language": "python",
   "name": "python3"
  },
  "language_info": {
   "codemirror_mode": {
    "name": "ipython",
    "version": 3
   },
   "file_extension": ".py",
   "mimetype": "text/x-python",
   "name": "python",
   "nbconvert_exporter": "python",
   "pygments_lexer": "ipython3",
   "version": "3.7.3"
  }
 },
 "nbformat": 4,
 "nbformat_minor": 1
}
