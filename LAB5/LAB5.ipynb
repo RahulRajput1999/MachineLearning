{
 "cells": [
  {
   "cell_type": "code",
   "execution_count": 0,
   "metadata": {
    "colab": {},
    "colab_type": "code",
    "id": "WsGCPTSLv_hK"
   },
   "outputs": [],
   "source": [
    "import numpy as np\n",
    "import tensorflow as tf\n",
    "import matplotlib.pyplot as plt\n",
    "from sklearn.datasets import load_boston\n",
    "import pandas as pd\n",
    "import seaborn as sns"
   ]
  },
  {
   "cell_type": "code",
   "execution_count": 0,
   "metadata": {
    "colab": {},
    "colab_type": "code",
    "id": "1z6YZG-Zwafl"
   },
   "outputs": [],
   "source": [
    "x = np.linspace(0,50,50)\n",
    "y = np.linspace(0,50,50)"
   ]
  },
  {
   "cell_type": "code",
   "execution_count": 0,
   "metadata": {
    "colab": {},
    "colab_type": "code",
    "id": "lasiGqucwjWD"
   },
   "outputs": [],
   "source": [
    "x += np.random.uniform(-4, 4, 50)\n",
    "y += np.random.uniform(-4, 4, 50)\n",
    "n = len(x)"
   ]
  },
  {
   "cell_type": "code",
   "execution_count": 11,
   "metadata": {
    "colab": {
     "base_uri": "https://localhost:8080/",
     "height": 295
    },
    "colab_type": "code",
    "id": "YUNic2dKwmV2",
    "outputId": "3ca35b48-9cbe-4bb0-c474-9c8ae29c4956"
   },
   "outputs": [
    {
     "data": {
      "image/png": "[encoded data removed]",
      "text/plain": [
       "<Figure size 432x288 with 1 Axes>"
      ]
     },
     "metadata": {
      "tags": []
     },
     "output_type": "display_data"
    }
   ],
   "source": [
    "plt.scatter(x, y, color='blue')\n",
    "plt.xlabel('x')\n",
    "plt.xlabel('y')\n",
    "plt.title(\"Training Data\")\n",
    "plt.show()"
   ]
  },
  {
   "cell_type": "code",
   "execution_count": 0,
   "metadata": {
    "colab": {},
    "colab_type": "code",
    "id": "nbF6ge7Bwpbq"
   },
   "outputs": [],
   "source": [
    "X = tf.placeholder(tf.float32)\n",
    "Y = tf.placeholder(tf.float32)"
   ]
  },
  {
   "cell_type": "code",
   "execution_count": 0,
   "metadata": {
    "colab": {},
    "colab_type": "code",
    "id": "oyaRazNRwsRD"
   },
   "outputs": [],
   "source": [
    "W = tf.Variable(np.random.randn(), name = \"W\")\n",
    "b = tf.Variable(np.random.randn(), name = \"b\")"
   ]
  },
  {
   "cell_type": "code",
   "execution_count": 0,
   "metadata": {
    "colab": {},
    "colab_type": "code",
    "id": "0YbVP6UYwuIN"
   },
   "outputs": [],
   "source": [
    "learning_rate = 0.01\n",
    "training_epochs = 1500"
   ]
  },
  {
   "cell_type": "code",
   "execution_count": 15,
   "metadata": {
    "colab": {
     "base_uri": "https://localhost:8080/",
     "height": 85
    },
    "colab_type": "code",
    "id": "37gDhf2SwvoC",
    "outputId": "a4aa88a2-4693-47c6-bca7-9910a0af02f6"
   },
   "outputs": [
    {
     "name": "stderr",
     "output_type": "stream",
     "text": [
      "WARNING: Logging before flag parsing goes to stderr.\n",
      "W0825 10:37:18.480022 139839722747776 deprecation.py:323] From <ipython-input-15-0315d83416be>:2: div (from tensorflow.python.ops.math_ops) is deprecated and will be removed in a future version.\n",
      "Instructions for updating:\n",
      "Deprecated in favor of operator or tf.math.divide.\n"
     ]
    }
   ],
   "source": [
    "y_pred = tf.add(tf.multiply(X, W), b)\n",
    "cost = tf.div(tf.reduce_sum(tf.square(y_pred-Y)),(2 * n))\n",
    "optimizer = tf.train.GradientDescentOptimizer(learning_rate).minimize(cost)\n",
    "init = tf.global_variables_initializer()"
   ]
  },
  {
   "cell_type": "code",
   "execution_count": 16,
   "metadata": {
    "colab": {
     "base_uri": "https://localhost:8080/",
     "height": 527
    },
    "colab_type": "code",
    "id": "lbe3VXMYw2xe",
    "outputId": "9f229b0e-5916-4022-d3c0-bfd774c207a6"
   },
   "outputs": [
    {
     "name": "stdout",
     "output_type": "stream",
     "text": [
      "Epoch 50 : cost = 6.781017 W = 1.0048156 b = -1.9276061\n",
      "Epoch 100 : cost = 6.135523 W = 0.9947624 b = -1.4226213\n",
      "Epoch 150 : cost = 5.637338 W = 0.98585576 b = -0.97522396\n",
      "Epoch 200 : cost = 5.25382 W = 0.97796464 b = -0.5788447\n",
      "Epoch 250 : cost = 4.959443 W = 0.9709735 b = -0.22766782\n",
      "Epoch 300 : cost = 4.73428 W = 0.9647795 b = 0.0834629\n",
      "Epoch 350 : cost = 4.562768 W = 0.95929193 b = 0.3591139\n",
      "Epoch 400 : cost = 4.432778 W = 0.9544301 b = 0.6033299\n",
      "Epoch 450 : cost = 4.3348465 W = 0.9501227 b = 0.8196979\n",
      "Epoch 500 : cost = 4.261615 W = 0.9463064 b = 1.0113928\n",
      "Epoch 550 : cost = 4.2073536 W = 0.94292545 b = 1.1812264\n",
      "Epoch 600 : cost = 4.1676173 W = 0.93992996 b = 1.3316915\n",
      "Epoch 650 : cost = 4.1389556 W = 0.93727607 b = 1.4649987\n",
      "Epoch 700 : cost = 4.1186976 W = 0.9349249 b = 1.5831044\n",
      "Epoch 750 : cost = 4.104782 W = 0.9328418 b = 1.6877413\n",
      "Epoch 800 : cost = 4.0956173 W = 0.93099624 b = 1.7804458\n",
      "Epoch 850 : cost = 4.0899816 W = 0.92936116 b = 1.862578\n",
      "Epoch 900 : cost = 4.0869384 W = 0.92791253 b = 1.9353461\n",
      "Epoch 950 : cost = 4.085772 W = 0.92662907 b = 1.9998158\n",
      "Epoch 1000 : cost = 4.08594 W = 0.9254919 b = 2.056933\n",
      "Epoch 1050 : cost = 4.0870333 W = 0.9244846 b = 2.1075342\n",
      "Epoch 1100 : cost = 4.0887394 W = 0.92359203 b = 2.1523685\n",
      "Epoch 1150 : cost = 4.0908327 W = 0.9228014 b = 2.1920836\n",
      "Epoch 1200 : cost = 4.0931444 W = 0.9221007 b = 2.227279\n",
      "Epoch 1250 : cost = 4.09555 W = 0.9214801 b = 2.2584536\n",
      "Epoch 1300 : cost = 4.097961 W = 0.92093027 b = 2.286073\n",
      "Epoch 1350 : cost = 4.10032 W = 0.92044294 b = 2.3105524\n",
      "Epoch 1400 : cost = 4.1025815 W = 0.9200113 b = 2.3322346\n",
      "Epoch 1450 : cost = 4.1047196 W = 0.919629 b = 2.3514392\n",
      "Epoch 1500 : cost = 4.106723 W = 0.9192901 b = 2.3684573\n"
     ]
    }
   ],
   "source": [
    "with tf.Session() as sess:\n",
    "  merged = tf.summary.merge_all()\n",
    "  writer = tf.summary.FileWriter(\"logs\", sess.graph)\n",
    "  sess.run(init)\n",
    "  for epoch in range(training_epochs):\n",
    "    for (_x, _y) in zip(x, y):\n",
    "      sess.run(optimizer, feed_dict = {X : _x, Y : _y})\n",
    "    if (epoch+1) % 50 == 0:\n",
    "      c = sess.run(cost, feed_dict = {X : x, Y : y})\n",
    "      print(\"Epoch\", (epoch+1), \": cost =\", c, \"W =\", sess.run(W), \"b =\", sess.run(b))\n",
    "  training_cost = sess.run(cost, feed_dict ={X: x, Y: y})\n",
    "  weight = sess.run(W)\n",
    "  bias = sess.run(b)"
   ]
  },
  {
   "cell_type": "code",
   "execution_count": 17,
   "metadata": {
    "colab": {
     "base_uri": "https://localhost:8080/",
     "height": 51
    },
    "colab_type": "code",
    "id": "Xvaxpz_vxces",
    "outputId": "df63878d-bf2f-4fca-ad19-c167b1d292e3"
   },
   "outputs": [
    {
     "name": "stdout",
     "output_type": "stream",
     "text": [
      "Training cost = 4.106723 Weight = 0.9192901 bias = 2.3684573 \n",
      "\n"
     ]
    }
   ],
   "source": [
    "predictions = weight * x + bias\n",
    "print(\"Training cost =\", training_cost, \"Weight =\", weight, \"bias =\", bias, '\\n')"
   ]
  },
  {
   "cell_type": "code",
   "execution_count": 18,
   "metadata": {
    "colab": {
     "base_uri": "https://localhost:8080/",
     "height": 281
    },
    "colab_type": "code",
    "id": "uTN2KkyTxu61",
    "outputId": "9f8944ba-1cf6-47c6-dd76-25679165e03e"
   },
   "outputs": [
    {
     "data": {
      "image/png": "[encoded data removed]",
      "text/plain": [
       "<Figure size 432x288 with 1 Axes>"
      ]
     },
     "metadata": {
      "tags": []
     },
     "output_type": "display_data"
    }
   ],
   "source": [
    "plt.plot(x, y,'ro', color = 'blue', label ='Original data')\n",
    "plt.plot(x, predictions, color = 'red', label ='Fitted line')\n",
    "plt.title('Linear Regression Result')\n",
    "plt.legend()\n",
    "plt.show()"
   ]
  },
  {
   "cell_type": "code",
   "execution_count": 19,
   "metadata": {
    "colab": {
     "base_uri": "https://localhost:8080/",
     "height": 34
    },
    "colab_type": "code",
    "id": "VEEZVohexxiD",
    "outputId": "76bd365b-9a85-4409-acdf-53b645fd3d5e"
   },
   "outputs": [
    {
     "name": "stdout",
     "output_type": "stream",
     "text": [
      "R2 value: 0.9626758714904278\n"
     ]
    }
   ],
   "source": [
    "from sklearn.metrics import r2_score\n",
    "R2 = r2_score(y, predictions, multioutput='variance_weighted')\n",
    "print(\"R2 value:\",R2)"
   ]
  },
  {
   "cell_type": "code",
   "execution_count": 20,
   "metadata": {
    "colab": {
     "base_uri": "https://localhost:8080/",
     "height": 34
    },
    "colab_type": "code",
    "id": "9nWU2os5yBzh",
    "outputId": "9dec560c-f0b0-4099-9019-611037d396cf"
   },
   "outputs": [
    {
     "data": {
      "text/plain": [
       "array([ 6.03366705, 20.05100288, 23.60222063, 35.92254689, 23.29609702])"
      ]
     },
     "execution_count": 20,
     "metadata": {
      "tags": []
     },
     "output_type": "execute_result"
    }
   ],
   "source": [
    "'''\n",
    "Exercise 1:\n",
    "Predict Y values for given X values.\n",
    "'''\n",
    "predictions1 = weight * np.array([3.987, 19.235, 23.098, 36.5, 22.765]) + bias\n",
    "predictions1"
   ]
  },
  {
   "cell_type": "code",
   "execution_count": 21,
   "metadata": {
    "colab": {
     "base_uri": "https://localhost:8080/",
     "height": 340
    },
    "colab_type": "code",
    "id": "PeguXgFNyn0v",
    "outputId": "c185fbcb-e71b-4b64-dd8c-0c476553fb50"
   },
   "outputs": [
    {
     "name": "stdout",
     "output_type": "stream",
     "text": [
      "Epoch 50 : cost = 6.781017 W = 1.0048156 b = -1.9276061\n",
      "Epoch 100 : cost = 6.135523 W = 0.9947624 b = -1.4226213\n",
      "Epoch 150 : cost = 5.637338 W = 0.98585576 b = -0.97522396\n",
      "Epoch 200 : cost = 5.25382 W = 0.97796464 b = -0.5788447\n",
      "Epoch 250 : cost = 4.959443 W = 0.9709735 b = -0.22766782\n",
      "Epoch 300 : cost = 4.73428 W = 0.9647795 b = 0.0834629\n",
      "Epoch 350 : cost = 4.562768 W = 0.95929193 b = 0.3591139\n",
      "Epoch 400 : cost = 4.432778 W = 0.9544301 b = 0.6033299\n",
      "Epoch 450 : cost = 4.3348465 W = 0.9501227 b = 0.8196979\n",
      "Epoch 500 : cost = 4.261615 W = 0.9463064 b = 1.0113928\n",
      "Epoch 550 : cost = 4.2073536 W = 0.94292545 b = 1.1812264\n",
      "Epoch 600 : cost = 4.1676173 W = 0.93992996 b = 1.3316915\n",
      "Epoch 650 : cost = 4.1389556 W = 0.93727607 b = 1.4649987\n",
      "Epoch 700 : cost = 4.1186976 W = 0.9349249 b = 1.5831044\n",
      "Epoch 750 : cost = 4.104782 W = 0.9328418 b = 1.6877413\n",
      "Epoch 800 : cost = 4.0956173 W = 0.93099624 b = 1.7804458\n",
      "Epoch 850 : cost = 4.0899816 W = 0.92936116 b = 1.862578\n",
      "Epoch 900 : cost = 4.0869384 W = 0.92791253 b = 1.9353461\n",
      "Epoch 950 : cost = 4.085772 W = 0.92662907 b = 1.9998158\n"
     ]
    }
   ],
   "source": [
    "'''\n",
    "Exercise 2:\n",
    "Change Stopping criterion to delta(J)<=0.000001\n",
    "'''\n",
    "with tf.Session() as sess:\n",
    "  merged = tf.summary.merge_all()\n",
    "  writer = tf.summary.FileWriter(\"logs\", sess.graph)\n",
    "  sess.run(init)\n",
    "  prev = 0.0\n",
    "  iters = 1\n",
    "  while(iters):\n",
    "    for (_x, _y) in zip(x, y):\n",
    "      sess.run(optimizer, feed_dict = {X : _x, Y : _y})\n",
    "    c = sess.run(cost, feed_dict = {X : x, Y : y})\n",
    "    if iters % 50 == 0:\n",
    "      print(\"Epoch\", (iters), \": cost =\", c, \"W =\", sess.run(W), \"b =\", sess.run(b))\n",
    "    if(abs(c-prev)<0.000001):\n",
    "      break\n",
    "    prev = c\n",
    "    iters+=1\n",
    "  training_cost = sess.run(cost, feed_dict ={X: x, Y: y})\n",
    "  weight = sess.run(W)\n",
    "  bias = sess.run(b)"
   ]
  },
  {
   "cell_type": "code",
   "execution_count": 22,
   "metadata": {
    "colab": {
     "base_uri": "https://localhost:8080/",
     "height": 54
    },
    "colab_type": "code",
    "id": "btFmcKBgzkqy",
    "outputId": "04a48470-1893-4c13-e9c9-81ce2a04ba47"
   },
   "outputs": [
    {
     "data": {
      "text/plain": [
       "'\\nExercise 3\\nDiffrent alpha values for 1500 epoches:\\nlearning rate: 0.01 --> R2 value: 0.9618197718107743\\nlearning rate: 0.05 --> R2 value: -0.9297278609667908\\nlearning rate: 0.2 --> All values are Nan\\nlearning rate: 0.5 --> All values are Nan\\n'"
      ]
     },
     "execution_count": 22,
     "metadata": {
      "tags": []
     },
     "output_type": "execute_result"
    }
   ],
   "source": [
    "'''\n",
    "Exercise 3\n",
    "Diffrent alpha values for 1500 epoches:\n",
    "learning rate: 0.01 --> R2 value: 0.9618197718107743\n",
    "learning rate: 0.05 --> R2 value: -0.9297278609667908\n",
    "learning rate: 0.2 --> All values are Nan\n",
    "learning rate: 0.5 --> All values are Nan\n",
    "'''"
   ]
  },
  {
   "cell_type": "code",
   "execution_count": 23,
   "metadata": {
    "colab": {
     "base_uri": "https://localhost:8080/",
     "height": 1091
    },
    "colab_type": "code",
    "id": "Hrrhn5Eg_p_p",
    "outputId": "8ed87ad5-d492-4dba-e185-72ff2d3efd79"
   },
   "outputs": [
    {
     "name": "stdout",
     "output_type": "stream",
     "text": [
      ".. _boston_dataset:\n",
      "\n",
      "Boston house prices dataset\n",
      "---------------------------\n",
      "\n",
      "**Data Set Characteristics:**  \n",
      "\n",
      "    :Number of Instances: 506 \n",
      "\n",
      "    :Number of Attributes: 13 numeric/categorical predictive. Median Value (attribute 14) is usually the target.\n",
      "\n",
      "    :Attribute Information (in order):\n",
      "        - CRIM     per capita crime rate by town\n",
      "        - ZN       proportion of residential land zoned for lots over 25,000 sq.ft.\n",
      "        - INDUS    proportion of non-retail business acres per town\n",
      "        - CHAS     Charles River dummy variable (= 1 if tract bounds river; 0 otherwise)\n",
      "        - NOX      nitric oxides concentration (parts per 10 million)\n",
      "        - RM       average number of rooms per dwelling\n",
      "        - AGE      proportion of owner-occupied units built prior to 1940\n",
      "        - DIS      weighted distances to five Boston employment centres\n",
      "        - RAD      index of accessibility to radial highways\n",
      "        - TAX      full-value property-tax rate per $10,000\n",
      "        - PTRATIO  pupil-teacher ratio by town\n",
      "        - B        1000(Bk - 0.63)^2 where Bk is the proportion of blacks by town\n",
      "        - LSTAT    % lower status of the population\n",
      "        - MEDV     Median value of owner-occupied homes in $1000's\n",
      "\n",
      "    :Missing Attribute Values: None\n",
      "\n",
      "    :Creator: Harrison, D. and Rubinfeld, D.L.\n",
      "\n",
      "This is a copy of UCI ML housing dataset.\n",
      "https://archive.ics.uci.edu/ml/machine-learning-databases/housing/\n",
      "\n",
      "\n",
      "This dataset was taken from the StatLib library which is maintained at Carnegie Mellon University.\n",
      "\n",
      "The Boston house-price data of Harrison, D. and Rubinfeld, D.L. 'Hedonic\n",
      "prices and the demand for clean air', J. Environ. Economics & Management,\n",
      "vol.5, 81-102, 1978.   Used in Belsley, Kuh & Welsch, 'Regression diagnostics\n",
      "...', Wiley, 1980.   N.B. Various transformations are used in the table on\n",
      "pages 244-261 of the latter.\n",
      "\n",
      "The Boston house-price data has been used in many machine learning papers that address regression\n",
      "problems.   \n",
      "     \n",
      ".. topic:: References\n",
      "\n",
      "   - Belsley, Kuh & Welsch, 'Regression diagnostics: Identifying Influential Data and Sources of Collinearity', Wiley, 1980. 244-261.\n",
      "   - Quinlan,R. (1993). Combining Instance-Based and Model-Based Learning. In Proceedings on the Tenth International Conference of Machine Learning, 236-243, University of Massachusetts, Amherst. Morgan Kaufmann.\n",
      "\n"
     ]
    },
    {
     "data": {
      "text/html": [
       "<div>\n",
       "<style scoped>\n",
       "    .dataframe tbody tr th:only-of-type {\n",
       "        vertical-align: middle;\n",
       "    }\n",
       "\n",
       "    .dataframe tbody tr th {\n",
       "        vertical-align: top;\n",
       "    }\n",
       "\n",
       "    .dataframe thead th {\n",
       "        text-align: right;\n",
       "    }\n",
       "</style>\n",
       "<table border=\"1\" class=\"dataframe\">\n",
       "  <thead>\n",
       "    <tr style=\"text-align: right;\">\n",
       "      <th></th>\n",
       "      <th>CRIM</th>\n",
       "      <th>ZN</th>\n",
       "      <th>INDUS</th>\n",
       "      <th>CHAS</th>\n",
       "      <th>NOX</th>\n",
       "      <th>RM</th>\n",
       "      <th>AGE</th>\n",
       "      <th>DIS</th>\n",
       "      <th>RAD</th>\n",
       "      <th>TAX</th>\n",
       "      <th>PTRATIO</th>\n",
       "      <th>B</th>\n",
       "      <th>LSTAT</th>\n",
       "      <th>target</th>\n",
       "    </tr>\n",
       "  </thead>\n",
       "  <tbody>\n",
       "    <tr>\n",
       "      <th>0</th>\n",
       "      <td>0.00632</td>\n",
       "      <td>18.0</td>\n",
       "      <td>2.31</td>\n",
       "      <td>0.0</td>\n",
       "      <td>0.538</td>\n",
       "      <td>6.575</td>\n",
       "      <td>65.2</td>\n",
       "      <td>4.0900</td>\n",
       "      <td>1.0</td>\n",
       "      <td>296.0</td>\n",
       "      <td>15.3</td>\n",
       "      <td>396.90</td>\n",
       "      <td>4.98</td>\n",
       "      <td>24.0</td>\n",
       "    </tr>\n",
       "    <tr>\n",
       "      <th>1</th>\n",
       "      <td>0.02731</td>\n",
       "      <td>0.0</td>\n",
       "      <td>7.07</td>\n",
       "      <td>0.0</td>\n",
       "      <td>0.469</td>\n",
       "      <td>6.421</td>\n",
       "      <td>78.9</td>\n",
       "      <td>4.9671</td>\n",
       "      <td>2.0</td>\n",
       "      <td>242.0</td>\n",
       "      <td>17.8</td>\n",
       "      <td>396.90</td>\n",
       "      <td>9.14</td>\n",
       "      <td>21.6</td>\n",
       "    </tr>\n",
       "    <tr>\n",
       "      <th>2</th>\n",
       "      <td>0.02729</td>\n",
       "      <td>0.0</td>\n",
       "      <td>7.07</td>\n",
       "      <td>0.0</td>\n",
       "      <td>0.469</td>\n",
       "      <td>7.185</td>\n",
       "      <td>61.1</td>\n",
       "      <td>4.9671</td>\n",
       "      <td>2.0</td>\n",
       "      <td>242.0</td>\n",
       "      <td>17.8</td>\n",
       "      <td>392.83</td>\n",
       "      <td>4.03</td>\n",
       "      <td>34.7</td>\n",
       "    </tr>\n",
       "    <tr>\n",
       "      <th>3</th>\n",
       "      <td>0.03237</td>\n",
       "      <td>0.0</td>\n",
       "      <td>2.18</td>\n",
       "      <td>0.0</td>\n",
       "      <td>0.458</td>\n",
       "      <td>6.998</td>\n",
       "      <td>45.8</td>\n",
       "      <td>6.0622</td>\n",
       "      <td>3.0</td>\n",
       "      <td>222.0</td>\n",
       "      <td>18.7</td>\n",
       "      <td>394.63</td>\n",
       "      <td>2.94</td>\n",
       "      <td>33.4</td>\n",
       "    </tr>\n",
       "    <tr>\n",
       "      <th>4</th>\n",
       "      <td>0.06905</td>\n",
       "      <td>0.0</td>\n",
       "      <td>2.18</td>\n",
       "      <td>0.0</td>\n",
       "      <td>0.458</td>\n",
       "      <td>7.147</td>\n",
       "      <td>54.2</td>\n",
       "      <td>6.0622</td>\n",
       "      <td>3.0</td>\n",
       "      <td>222.0</td>\n",
       "      <td>18.7</td>\n",
       "      <td>396.90</td>\n",
       "      <td>5.33</td>\n",
       "      <td>36.2</td>\n",
       "    </tr>\n",
       "  </tbody>\n",
       "</table>\n",
       "</div>"
      ],
      "text/plain": [
       "      CRIM    ZN  INDUS  CHAS    NOX  ...    TAX  PTRATIO       B  LSTAT  target\n",
       "0  0.00632  18.0   2.31   0.0  0.538  ...  296.0     15.3  396.90   4.98    24.0\n",
       "1  0.02731   0.0   7.07   0.0  0.469  ...  242.0     17.8  396.90   9.14    21.6\n",
       "2  0.02729   0.0   7.07   0.0  0.469  ...  242.0     17.8  392.83   4.03    34.7\n",
       "3  0.03237   0.0   2.18   0.0  0.458  ...  222.0     18.7  394.63   2.94    33.4\n",
       "4  0.06905   0.0   2.18   0.0  0.458  ...  222.0     18.7  396.90   5.33    36.2\n",
       "\n",
       "[5 rows x 14 columns]"
      ]
     },
     "execution_count": 23,
     "metadata": {
      "tags": []
     },
     "output_type": "execute_result"
    }
   ],
   "source": [
    "boston = load_boston()\n",
    "df = pd.DataFrame(\n",
    "    data= np.c_[boston['data']],\n",
    "    columns= boston['feature_names'])\n",
    "df.insert(13,'target',boston['target'],True)\n",
    "print(boston['DESCR'])\n",
    "df.head()"
   ]
  },
  {
   "cell_type": "code",
   "execution_count": 24,
   "metadata": {
    "colab": {
     "base_uri": "https://localhost:8080/",
     "height": 483
    },
    "colab_type": "code",
    "id": "1UWF05-bFErO",
    "outputId": "a6d31f15-d2c7-426c-dd8a-a00173cc8312"
   },
   "outputs": [
    {
     "data": {
      "text/html": [
       "<div>\n",
       "<style scoped>\n",
       "    .dataframe tbody tr th:only-of-type {\n",
       "        vertical-align: middle;\n",
       "    }\n",
       "\n",
       "    .dataframe tbody tr th {\n",
       "        vertical-align: top;\n",
       "    }\n",
       "\n",
       "    .dataframe thead th {\n",
       "        text-align: right;\n",
       "    }\n",
       "</style>\n",
       "<table border=\"1\" class=\"dataframe\">\n",
       "  <thead>\n",
       "    <tr style=\"text-align: right;\">\n",
       "      <th></th>\n",
       "      <th>CRIM</th>\n",
       "      <th>ZN</th>\n",
       "      <th>INDUS</th>\n",
       "      <th>CHAS</th>\n",
       "      <th>NOX</th>\n",
       "      <th>RM</th>\n",
       "      <th>AGE</th>\n",
       "      <th>DIS</th>\n",
       "      <th>RAD</th>\n",
       "      <th>TAX</th>\n",
       "      <th>PTRATIO</th>\n",
       "      <th>B</th>\n",
       "      <th>LSTAT</th>\n",
       "      <th>target</th>\n",
       "    </tr>\n",
       "  </thead>\n",
       "  <tbody>\n",
       "    <tr>\n",
       "      <th>CRIM</th>\n",
       "      <td>1.000000</td>\n",
       "      <td>-0.200469</td>\n",
       "      <td>0.406583</td>\n",
       "      <td>-0.055892</td>\n",
       "      <td>0.420972</td>\n",
       "      <td>-0.219247</td>\n",
       "      <td>0.352734</td>\n",
       "      <td>-0.379670</td>\n",
       "      <td>0.625505</td>\n",
       "      <td>0.582764</td>\n",
       "      <td>0.289946</td>\n",
       "      <td>-0.385064</td>\n",
       "      <td>0.455621</td>\n",
       "      <td>-0.388305</td>\n",
       "    </tr>\n",
       "    <tr>\n",
       "      <th>ZN</th>\n",
       "      <td>-0.200469</td>\n",
       "      <td>1.000000</td>\n",
       "      <td>-0.533828</td>\n",
       "      <td>-0.042697</td>\n",
       "      <td>-0.516604</td>\n",
       "      <td>0.311991</td>\n",
       "      <td>-0.569537</td>\n",
       "      <td>0.664408</td>\n",
       "      <td>-0.311948</td>\n",
       "      <td>-0.314563</td>\n",
       "      <td>-0.391679</td>\n",
       "      <td>0.175520</td>\n",
       "      <td>-0.412995</td>\n",
       "      <td>0.360445</td>\n",
       "    </tr>\n",
       "    <tr>\n",
       "      <th>INDUS</th>\n",
       "      <td>0.406583</td>\n",
       "      <td>-0.533828</td>\n",
       "      <td>1.000000</td>\n",
       "      <td>0.062938</td>\n",
       "      <td>0.763651</td>\n",
       "      <td>-0.391676</td>\n",
       "      <td>0.644779</td>\n",
       "      <td>-0.708027</td>\n",
       "      <td>0.595129</td>\n",
       "      <td>0.720760</td>\n",
       "      <td>0.383248</td>\n",
       "      <td>-0.356977</td>\n",
       "      <td>0.603800</td>\n",
       "      <td>-0.483725</td>\n",
       "    </tr>\n",
       "    <tr>\n",
       "      <th>CHAS</th>\n",
       "      <td>-0.055892</td>\n",
       "      <td>-0.042697</td>\n",
       "      <td>0.062938</td>\n",
       "      <td>1.000000</td>\n",
       "      <td>0.091203</td>\n",
       "      <td>0.091251</td>\n",
       "      <td>0.086518</td>\n",
       "      <td>-0.099176</td>\n",
       "      <td>-0.007368</td>\n",
       "      <td>-0.035587</td>\n",
       "      <td>-0.121515</td>\n",
       "      <td>0.048788</td>\n",
       "      <td>-0.053929</td>\n",
       "      <td>0.175260</td>\n",
       "    </tr>\n",
       "    <tr>\n",
       "      <th>NOX</th>\n",
       "      <td>0.420972</td>\n",
       "      <td>-0.516604</td>\n",
       "      <td>0.763651</td>\n",
       "      <td>0.091203</td>\n",
       "      <td>1.000000</td>\n",
       "      <td>-0.302188</td>\n",
       "      <td>0.731470</td>\n",
       "      <td>-0.769230</td>\n",
       "      <td>0.611441</td>\n",
       "      <td>0.668023</td>\n",
       "      <td>0.188933</td>\n",
       "      <td>-0.380051</td>\n",
       "      <td>0.590879</td>\n",
       "      <td>-0.427321</td>\n",
       "    </tr>\n",
       "    <tr>\n",
       "      <th>RM</th>\n",
       "      <td>-0.219247</td>\n",
       "      <td>0.311991</td>\n",
       "      <td>-0.391676</td>\n",
       "      <td>0.091251</td>\n",
       "      <td>-0.302188</td>\n",
       "      <td>1.000000</td>\n",
       "      <td>-0.240265</td>\n",
       "      <td>0.205246</td>\n",
       "      <td>-0.209847</td>\n",
       "      <td>-0.292048</td>\n",
       "      <td>-0.355501</td>\n",
       "      <td>0.128069</td>\n",
       "      <td>-0.613808</td>\n",
       "      <td>0.695360</td>\n",
       "    </tr>\n",
       "    <tr>\n",
       "      <th>AGE</th>\n",
       "      <td>0.352734</td>\n",
       "      <td>-0.569537</td>\n",
       "      <td>0.644779</td>\n",
       "      <td>0.086518</td>\n",
       "      <td>0.731470</td>\n",
       "      <td>-0.240265</td>\n",
       "      <td>1.000000</td>\n",
       "      <td>-0.747881</td>\n",
       "      <td>0.456022</td>\n",
       "      <td>0.506456</td>\n",
       "      <td>0.261515</td>\n",
       "      <td>-0.273534</td>\n",
       "      <td>0.602339</td>\n",
       "      <td>-0.376955</td>\n",
       "    </tr>\n",
       "    <tr>\n",
       "      <th>DIS</th>\n",
       "      <td>-0.379670</td>\n",
       "      <td>0.664408</td>\n",
       "      <td>-0.708027</td>\n",
       "      <td>-0.099176</td>\n",
       "      <td>-0.769230</td>\n",
       "      <td>0.205246</td>\n",
       "      <td>-0.747881</td>\n",
       "      <td>1.000000</td>\n",
       "      <td>-0.494588</td>\n",
       "      <td>-0.534432</td>\n",
       "      <td>-0.232471</td>\n",
       "      <td>0.291512</td>\n",
       "      <td>-0.496996</td>\n",
       "      <td>0.249929</td>\n",
       "    </tr>\n",
       "    <tr>\n",
       "      <th>RAD</th>\n",
       "      <td>0.625505</td>\n",
       "      <td>-0.311948</td>\n",
       "      <td>0.595129</td>\n",
       "      <td>-0.007368</td>\n",
       "      <td>0.611441</td>\n",
       "      <td>-0.209847</td>\n",
       "      <td>0.456022</td>\n",
       "      <td>-0.494588</td>\n",
       "      <td>1.000000</td>\n",
       "      <td>0.910228</td>\n",
       "      <td>0.464741</td>\n",
       "      <td>-0.444413</td>\n",
       "      <td>0.488676</td>\n",
       "      <td>-0.381626</td>\n",
       "    </tr>\n",
       "    <tr>\n",
       "      <th>TAX</th>\n",
       "      <td>0.582764</td>\n",
       "      <td>-0.314563</td>\n",
       "      <td>0.720760</td>\n",
       "      <td>-0.035587</td>\n",
       "      <td>0.668023</td>\n",
       "      <td>-0.292048</td>\n",
       "      <td>0.506456</td>\n",
       "      <td>-0.534432</td>\n",
       "      <td>0.910228</td>\n",
       "      <td>1.000000</td>\n",
       "      <td>0.460853</td>\n",
       "      <td>-0.441808</td>\n",
       "      <td>0.543993</td>\n",
       "      <td>-0.468536</td>\n",
       "    </tr>\n",
       "    <tr>\n",
       "      <th>PTRATIO</th>\n",
       "      <td>0.289946</td>\n",
       "      <td>-0.391679</td>\n",
       "      <td>0.383248</td>\n",
       "      <td>-0.121515</td>\n",
       "      <td>0.188933</td>\n",
       "      <td>-0.355501</td>\n",
       "      <td>0.261515</td>\n",
       "      <td>-0.232471</td>\n",
       "      <td>0.464741</td>\n",
       "      <td>0.460853</td>\n",
       "      <td>1.000000</td>\n",
       "      <td>-0.177383</td>\n",
       "      <td>0.374044</td>\n",
       "      <td>-0.507787</td>\n",
       "    </tr>\n",
       "    <tr>\n",
       "      <th>B</th>\n",
       "      <td>-0.385064</td>\n",
       "      <td>0.175520</td>\n",
       "      <td>-0.356977</td>\n",
       "      <td>0.048788</td>\n",
       "      <td>-0.380051</td>\n",
       "      <td>0.128069</td>\n",
       "      <td>-0.273534</td>\n",
       "      <td>0.291512</td>\n",
       "      <td>-0.444413</td>\n",
       "      <td>-0.441808</td>\n",
       "      <td>-0.177383</td>\n",
       "      <td>1.000000</td>\n",
       "      <td>-0.366087</td>\n",
       "      <td>0.333461</td>\n",
       "    </tr>\n",
       "    <tr>\n",
       "      <th>LSTAT</th>\n",
       "      <td>0.455621</td>\n",
       "      <td>-0.412995</td>\n",
       "      <td>0.603800</td>\n",
       "      <td>-0.053929</td>\n",
       "      <td>0.590879</td>\n",
       "      <td>-0.613808</td>\n",
       "      <td>0.602339</td>\n",
       "      <td>-0.496996</td>\n",
       "      <td>0.488676</td>\n",
       "      <td>0.543993</td>\n",
       "      <td>0.374044</td>\n",
       "      <td>-0.366087</td>\n",
       "      <td>1.000000</td>\n",
       "      <td>-0.737663</td>\n",
       "    </tr>\n",
       "    <tr>\n",
       "      <th>target</th>\n",
       "      <td>-0.388305</td>\n",
       "      <td>0.360445</td>\n",
       "      <td>-0.483725</td>\n",
       "      <td>0.175260</td>\n",
       "      <td>-0.427321</td>\n",
       "      <td>0.695360</td>\n",
       "      <td>-0.376955</td>\n",
       "      <td>0.249929</td>\n",
       "      <td>-0.381626</td>\n",
       "      <td>-0.468536</td>\n",
       "      <td>-0.507787</td>\n",
       "      <td>0.333461</td>\n",
       "      <td>-0.737663</td>\n",
       "      <td>1.000000</td>\n",
       "    </tr>\n",
       "  </tbody>\n",
       "</table>\n",
       "</div>"
      ],
      "text/plain": [
       "             CRIM        ZN     INDUS  ...         B     LSTAT    target\n",
       "CRIM     1.000000 -0.200469  0.406583  ... -0.385064  0.455621 -0.388305\n",
       "ZN      -0.200469  1.000000 -0.533828  ...  0.175520 -0.412995  0.360445\n",
       "INDUS    0.406583 -0.533828  1.000000  ... -0.356977  0.603800 -0.483725\n",
       "CHAS    -0.055892 -0.042697  0.062938  ...  0.048788 -0.053929  0.175260\n",
       "NOX      0.420972 -0.516604  0.763651  ... -0.380051  0.590879 -0.427321\n",
       "RM      -0.219247  0.311991 -0.391676  ...  0.128069 -0.613808  0.695360\n",
       "AGE      0.352734 -0.569537  0.644779  ... -0.273534  0.602339 -0.376955\n",
       "DIS     -0.379670  0.664408 -0.708027  ...  0.291512 -0.496996  0.249929\n",
       "RAD      0.625505 -0.311948  0.595129  ... -0.444413  0.488676 -0.381626\n",
       "TAX      0.582764 -0.314563  0.720760  ... -0.441808  0.543993 -0.468536\n",
       "PTRATIO  0.289946 -0.391679  0.383248  ... -0.177383  0.374044 -0.507787\n",
       "B       -0.385064  0.175520 -0.356977  ...  1.000000 -0.366087  0.333461\n",
       "LSTAT    0.455621 -0.412995  0.603800  ... -0.366087  1.000000 -0.737663\n",
       "target  -0.388305  0.360445 -0.483725  ...  0.333461 -0.737663  1.000000\n",
       "\n",
       "[14 rows x 14 columns]"
      ]
     },
     "execution_count": 24,
     "metadata": {
      "tags": []
     },
     "output_type": "execute_result"
    }
   ],
   "source": [
    "corr = df.corr()\n",
    "corr"
   ]
  },
  {
   "cell_type": "code",
   "execution_count": 25,
   "metadata": {
    "colab": {
     "base_uri": "https://localhost:8080/",
     "height": 318
    },
    "colab_type": "code",
    "id": "Sz3qRq5VKx89",
    "outputId": "f55bc12e-715f-4d51-e491-4a2001becb72"
   },
   "outputs": [
    {
     "data": {
      "text/plain": [
       "<matplotlib.axes._subplots.AxesSubplot at 0x7f2ead68b0b8>"
      ]
     },
     "execution_count": 25,
     "metadata": {
      "tags": []
     },
     "output_type": "execute_result"
    },
    {
     "data": {
      "image/png": "[encoded data removed]",
      "text/plain": [
       "<Figure size 432x288 with 2 Axes>"
      ]
     },
     "metadata": {
      "tags": []
     },
     "output_type": "display_data"
    }
   ],
   "source": [
    "sns.heatmap(corr,annot=True)"
   ]
  },
  {
   "cell_type": "code",
   "execution_count": 26,
   "metadata": {
    "colab": {
     "base_uri": "https://localhost:8080/",
     "height": 281
    },
    "colab_type": "code",
    "id": "V3sFgZbKLbw9",
    "outputId": "7cf75eaf-fdb1-49b5-fcbd-05f065b53762"
   },
   "outputs": [
    {
     "data": {
      "image/png": "[encoded data removed]",
      "text/plain": [
       "<Figure size 432x288 with 1 Axes>"
      ]
     },
     "metadata": {
      "tags": []
     },
     "output_type": "display_data"
    }
   ],
   "source": [
    "x1 = df[['LSTAT','RM','PTRATIO','CRIM','ZN','INDUS','CHAS','NOX','AGE','DIS','RAD','TAX','B']]\n",
    "y1 = df[['target']]\n",
    "n1 = len(x1)\n",
    "plt.plot(x1['LSTAT'], y1,'ro', color = 'blue', label ='LSTAT data')\n",
    "plt.plot(x1['RM'], y1,'ro', color = 'red', label ='RM data')\n",
    "plt.plot(x1['PTRATIO'], y1,'ro', color = 'green', label ='PTRATIO data')\n",
    "plt.plot(x1['CRIM'], y1,'ro', color = 'yellow', label ='CRIM data')\n",
    "plt.title('Correlation between LSTAT and PRICE')\n",
    "plt.legend()\n",
    "plt.show()"
   ]
  },
  {
   "cell_type": "code",
   "execution_count": 0,
   "metadata": {
    "colab": {},
    "colab_type": "code",
    "id": "VhsyMjUGR0Z0"
   },
   "outputs": [],
   "source": [
    "from sklearn.linear_model import LinearRegression\n",
    "from sklearn.model_selection import train_test_split"
   ]
  },
  {
   "cell_type": "code",
   "execution_count": 28,
   "metadata": {
    "colab": {
     "base_uri": "https://localhost:8080/",
     "height": 34
    },
    "colab_type": "code",
    "id": "b8z08gQwWdYd",
    "outputId": "8ba182f2-701c-468a-b01f-163a68c736e7"
   },
   "outputs": [
    {
     "data": {
      "text/plain": [
       "LinearRegression(copy_X=True, fit_intercept=True, n_jobs=None, normalize=False)"
      ]
     },
     "execution_count": 28,
     "metadata": {
      "tags": []
     },
     "output_type": "execute_result"
    }
   ],
   "source": [
    "x_train,x_test,y_train,y_test = train_test_split(x1,y1,test_size=0.2,random_state=5)\n",
    "regr = LinearRegression()\n",
    "regr.fit(x_train,y_train)"
   ]
  },
  {
   "cell_type": "code",
   "execution_count": 30,
   "metadata": {
    "colab": {
     "base_uri": "https://localhost:8080/",
     "height": 153
    },
    "colab_type": "code",
    "id": "uc9SaQimaxFO",
    "outputId": "172acbe7-7125-463c-8a44-72b7970368d0"
   },
   "outputs": [
    {
     "name": "stdout",
     "output_type": "stream",
     "text": [
      "R2 score is: 0.7334492147453128\n",
      "Mean Square Error :  20.869292183770405\n",
      "     target\n",
      "226    37.6\n",
      "292    27.9\n",
      "90     22.6\n",
      "373    13.8\n",
      "273    35.2\n"
     ]
    }
   ],
   "source": [
    "y_predict = regr.predict(x_test)\n",
    "r2 = r2_score(y_test,y_predict)\n",
    "print(\"R2 score is:\",format(r2))\n",
    "from sklearn.metrics import mean_squared_error \n",
    "mse = mean_squared_error(y_test, y_predict) \n",
    "print(\"Mean Square Error : \", mse)\n",
    "print(y_test.head())"
   ]
  }
 ],
 "metadata": {
  "colab": {
   "name": "Lab5.ipynb",
   "provenance": [],
   "version": "0.3.2"
  },
  "kernelspec": {
   "display_name": "Python 3",
   "language": "python",
   "name": "python3"
  },
  "language_info": {
   "codemirror_mode": {
    "name": "ipython",
    "version": 3
   },
   "file_extension": ".py",
   "mimetype": "text/x-python",
   "name": "python",
   "nbconvert_exporter": "python",
   "pygments_lexer": "ipython3",
   "version": "3.7.3"
  }
 },
 "nbformat": 4,
 "nbformat_minor": 1
}
