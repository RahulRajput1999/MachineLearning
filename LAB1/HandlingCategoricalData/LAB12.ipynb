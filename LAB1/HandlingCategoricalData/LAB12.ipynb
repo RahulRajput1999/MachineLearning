{
 "cells": [
  {
   "cell_type": "code",
   "execution_count": 1,
   "metadata": {},
   "outputs": [
    {
     "name": "stderr",
     "output_type": "stream",
     "text": [
      "/home/rahul/anaconda3/lib/python3.7/importlib/_bootstrap.py:219: RuntimeWarning: numpy.ufunc size changed, may indicate binary incompatibility. Expected 216, got 192\n",
      "  return f(*args, **kwds)\n",
      "/home/rahul/anaconda3/lib/python3.7/importlib/_bootstrap.py:219: RuntimeWarning: numpy.ufunc size changed, may indicate binary incompatibility. Expected 216, got 192\n",
      "  return f(*args, **kwds)\n"
     ]
    }
   ],
   "source": [
    "import numpy as np\n",
    "import pandas as pd\n",
    "from sklearn.preprocessing import LabelEncoder,OneHotEncoder"
   ]
  },
  {
   "cell_type": "code",
   "execution_count": 3,
   "metadata": {},
   "outputs": [
    {
     "name": "stdout",
     "output_type": "stream",
     "text": [
      "\n",
      "\n",
      "Data :\n",
      "     Country  Age  Salary Purchased\n",
      "0    France   44   72000        No\n",
      "1     Spain   27   48000       Yes\n",
      "2   Germany   30   54000        No\n",
      "3     Spain   38   61000        No\n",
      "4   Germany   40   68000       Yes\n",
      "5    France   35   58000       Yes\n",
      "6     Spain   39   52000        No\n",
      "7    France   48   79000       Yes\n",
      "8   Germany   50   83000        No\n",
      "9    France   37   67000       Yes\n",
      "10    Spain   45   55000        No\n",
      "\n",
      "\n",
      "Data Statistics:\n",
      "              Age        Salary\n",
      "count  11.000000     11.000000\n",
      "mean   39.363636  63363.636364\n",
      "std     7.131237  11386.594989\n",
      "min    27.000000  48000.000000\n",
      "25%    36.000000  54500.000000\n",
      "50%    39.000000  61000.000000\n",
      "75%    44.500000  70000.000000\n",
      "max    50.000000  83000.000000\n"
     ]
    }
   ],
   "source": [
    "datasets = pd.read_csv('Data_for_Categorical_Values.csv')\n",
    "print(\"\\n\\nData :\\n\",datasets)\n",
    "print(\"\\n\\nData Statistics:\\n\",datasets.describe())"
   ]
  },
  {
   "cell_type": "code",
   "execution_count": 4,
   "metadata": {},
   "outputs": [
    {
     "name": "stdout",
     "output_type": "stream",
     "text": [
      "\n",
      "\n",
      "Input : \n",
      " [['France' 44 72000]\n",
      " ['Spain' 27 48000]\n",
      " ['Germany' 30 54000]\n",
      " ['Spain' 38 61000]\n",
      " ['Germany' 40 68000]\n",
      " ['France' 35 58000]\n",
      " ['Spain' 39 52000]\n",
      " ['France' 48 79000]\n",
      " ['Germany' 50 83000]\n",
      " ['France' 37 67000]\n",
      " ['Spain' 45 55000]]\n",
      "\n",
      "\n",
      "Output: \n",
      " ['No' 'Yes' 'No' 'No' 'Yes' 'Yes' 'No' 'Yes' 'No' 'Yes' 'No']\n"
     ]
    }
   ],
   "source": [
    "X = datasets.iloc[:, :-1].values\n",
    "Y = datasets.iloc[:, -1].values\n",
    "print(\"\\n\\nInput : \\n\", X)\n",
    "print(\"\\n\\nOutput: \\n\", Y)"
   ]
  },
  {
   "cell_type": "code",
   "execution_count": 5,
   "metadata": {},
   "outputs": [
    {
     "name": "stdout",
     "output_type": "stream",
     "text": [
      "\n",
      "\n",
      "Input :\n",
      " [[0 44 72000]\n",
      " [2 27 48000]\n",
      " [1 30 54000]\n",
      " [2 38 61000]\n",
      " [1 40 68000]\n",
      " [0 35 58000]\n",
      " [2 39 52000]\n",
      " [0 48 79000]\n",
      " [1 50 83000]\n",
      " [0 37 67000]\n",
      " [2 45 55000]]\n"
     ]
    }
   ],
   "source": [
    "le = LabelEncoder()\n",
    "X[:,0] = le.fit_transform(X[:,0])\n",
    "print(\"\\n\\nInput :\\n\",X)"
   ]
  },
  {
   "cell_type": "code",
   "execution_count": 6,
   "metadata": {},
   "outputs": [
    {
     "name": "stdout",
     "output_type": "stream",
     "text": [
      "\n",
      "\n",
      "Input : \n",
      " [[1.0e+00 0.0e+00 0.0e+00 4.4e+01 7.2e+04]\n",
      " [0.0e+00 0.0e+00 1.0e+00 2.7e+01 4.8e+04]\n",
      " [0.0e+00 1.0e+00 0.0e+00 3.0e+01 5.4e+04]\n",
      " [0.0e+00 0.0e+00 1.0e+00 3.8e+01 6.1e+04]\n",
      " [0.0e+00 1.0e+00 0.0e+00 4.0e+01 6.8e+04]\n",
      " [1.0e+00 0.0e+00 0.0e+00 3.5e+01 5.8e+04]\n",
      " [0.0e+00 0.0e+00 1.0e+00 3.9e+01 5.2e+04]\n",
      " [1.0e+00 0.0e+00 0.0e+00 4.8e+01 7.9e+04]\n",
      " [0.0e+00 1.0e+00 0.0e+00 5.0e+01 8.3e+04]\n",
      " [1.0e+00 0.0e+00 0.0e+00 3.7e+01 6.7e+04]\n",
      " [0.0e+00 0.0e+00 1.0e+00 4.5e+01 5.5e+04]]\n"
     ]
    },
    {
     "name": "stderr",
     "output_type": "stream",
     "text": [
      "/home/rahul/.local/lib/python3.7/site-packages/sklearn/preprocessing/_encoders.py:415: FutureWarning: The handling of integer data will change in version 0.22. Currently, the categories are determined based on the range [0, max(values)], while in the future they will be determined based on the unique values.\n",
      "If you want the future behaviour and silence this warning, you can specify \"categories='auto'\".\n",
      "In case you used a LabelEncoder before this OneHotEncoder to convert the categories to integers, then you can now use the OneHotEncoder directly.\n",
      "  warnings.warn(msg, FutureWarning)\n"
     ]
    }
   ],
   "source": [
    "ohe = OneHotEncoder(categorical_features=[0])\n",
    "X = ohe.fit_transform(X)\n",
    "print(\"\\n\\nInput : \\n\", X.toarray())"
   ]
  },
  {
   "cell_type": "code",
   "execution_count": 7,
   "metadata": {},
   "outputs": [
    {
     "name": "stdout",
     "output_type": "stream",
     "text": [
      "\n",
      "\n",
      "Dummy :\n",
      "     France  Germany  Spain\n",
      "0        1        0      0\n",
      "1        0        0      1\n",
      "2        0        1      0\n",
      "3        0        0      1\n",
      "4        0        1      0\n",
      "5        1        0      0\n",
      "6        0        0      1\n",
      "7        1        0      0\n",
      "8        0        1      0\n",
      "9        1        0      0\n",
      "10       0        0      1\n",
      "\n",
      "\n",
      "Final Data :\n",
      "     France  Germany  Spain  Age  Salary\n",
      "0        1        0      0   44   72000\n",
      "1        0        0      1   27   48000\n",
      "2        0        1      0   30   54000\n",
      "3        0        0      1   38   61000\n",
      "4        0        1      0   40   68000\n",
      "5        1        0      0   35   58000\n",
      "6        0        0      1   39   52000\n",
      "7        1        0      0   48   79000\n",
      "8        0        1      0   50   83000\n",
      "9        1        0      0   37   67000\n",
      "10       0        0      1   45   55000\n"
     ]
    }
   ],
   "source": [
    "dummy = pd.get_dummies(datasets['Country'])\n",
    "print(\"\\n\\nDummy :\\n\",dummy)\n",
    "datasets = datasets.drop(['Country','Purchased'],axis=1)\n",
    "datasets = pd.concat([dummy,datasets],axis=1)\n",
    "print(\"\\n\\nFinal Data :\\n\",datasets)"
   ]
  },
  {
   "cell_type": "code",
   "execution_count": null,
   "metadata": {},
   "outputs": [],
   "source": []
  }
 ],
 "metadata": {
  "kernelspec": {
   "display_name": "Python 3",
   "language": "python",
   "name": "python3"
  },
  "language_info": {
   "codemirror_mode": {
    "name": "ipython",
    "version": 3
   },
   "file_extension": ".py",
   "mimetype": "text/x-python",
   "name": "python",
   "nbconvert_exporter": "python",
   "pygments_lexer": "ipython3",
   "version": "3.7.3"
  }
 },
 "nbformat": 4,
 "nbformat_minor": 2
}
