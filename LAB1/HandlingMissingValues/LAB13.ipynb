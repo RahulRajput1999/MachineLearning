{
 "cells": [
  {
   "cell_type": "code",
   "execution_count": 2,
   "metadata": {},
   "outputs": [
    {
     "name": "stderr",
     "output_type": "stream",
     "text": [
      "/home/rahul/anaconda3/lib/python3.7/importlib/_bootstrap.py:219: RuntimeWarning: numpy.ufunc size changed, may indicate binary incompatibility. Expected 216, got 192\n",
      "  return f(*args, **kwds)\n",
      "/home/rahul/anaconda3/lib/python3.7/importlib/_bootstrap.py:219: RuntimeWarning: numpy.ufunc size changed, may indicate binary incompatibility. Expected 216, got 192\n",
      "  return f(*args, **kwds)\n"
     ]
    }
   ],
   "source": [
    "import numpy as np\n",
    "import pandas as pd\n",
    "from sklearn.impute import SimpleImputer"
   ]
  },
  {
   "cell_type": "code",
   "execution_count": 3,
   "metadata": {},
   "outputs": [
    {
     "name": "stdout",
     "output_type": "stream",
     "text": [
      "\n",
      "\n",
      "Data :\n",
      "     Country   Age   Salary Purchased\n",
      "0    France  44.0  72000.0        No\n",
      "1     Spain  27.0  48000.0       Yes\n",
      "2   Germany  30.0  54000.0        No\n",
      "3     Spain  38.0  61000.0        No\n",
      "4       NaN   NaN      NaN       NaN\n",
      "5   Germany  40.0      NaN       Yes\n",
      "6    France  35.0  58000.0       Yes\n",
      "7     Spain   NaN  52000.0        No\n",
      "8    France  48.0  79000.0       Yes\n",
      "9   Germany  50.0  83000.0        No\n",
      "10   France  37.0  67000.0       Yes\n",
      "11    Spain  45.0  55000.0        No\n",
      "\n",
      "\n",
      "Data Statistics :\n",
      "              Age        Salary\n",
      "count  10.000000     10.000000\n",
      "mean   39.400000  62900.000000\n",
      "std     7.515909  11892.574714\n",
      "min    27.000000  48000.000000\n",
      "25%    35.500000  54250.000000\n",
      "50%    39.000000  59500.000000\n",
      "75%    44.750000  70750.000000\n",
      "max    50.000000  83000.000000\n"
     ]
    }
   ],
   "source": [
    "datasets = pd.read_csv('Data_for_Missing_Values.csv')\n",
    "print(\"\\n\\nData :\\n\",datasets)\n",
    "print(\"\\n\\nData Statistics :\\n\",datasets.describe())"
   ]
  },
  {
   "cell_type": "code",
   "execution_count": 4,
   "metadata": {},
   "outputs": [
    {
     "name": "stdout",
     "output_type": "stream",
     "text": [
      "\n",
      "\n",
      "Input : \n",
      " [['France' 44.0 72000.0]\n",
      " ['Spain' 27.0 48000.0]\n",
      " ['Germany' 30.0 54000.0]\n",
      " ['Spain' 38.0 61000.0]\n",
      " [nan nan nan]\n",
      " ['Germany' 40.0 nan]\n",
      " ['France' 35.0 58000.0]\n",
      " ['Spain' nan 52000.0]\n",
      " ['France' 48.0 79000.0]\n",
      " ['Germany' 50.0 83000.0]\n",
      " ['France' 37.0 67000.0]\n",
      " ['Spain' 45.0 55000.0]]\n",
      "\n",
      "\n",
      "Output: \n",
      " ['No' 'Yes' 'No' 'No' nan 'Yes' 'Yes' 'No' 'Yes' 'No' 'Yes' 'No']\n"
     ]
    }
   ],
   "source": [
    "X = datasets.iloc[:, :-1].values\n",
    "Y = datasets.iloc[:, -1].values\n",
    "print(\"\\n\\nInput : \\n\", X)\n",
    "print(\"\\n\\nOutput: \\n\", Y)"
   ]
  },
  {
   "cell_type": "code",
   "execution_count": 5,
   "metadata": {},
   "outputs": [
    {
     "name": "stdout",
     "output_type": "stream",
     "text": [
      "\n",
      "New Data :     Country   Age   Salary Purchased\n",
      "0    France  44.0  72000.0        No\n",
      "1     Spain  27.0  48000.0       Yes\n",
      "2   Germany  30.0  54000.0        No\n",
      "3     Spain  38.0  61000.0        No\n",
      "5   Germany  40.0      NaN       Yes\n",
      "6    France  35.0  58000.0       Yes\n",
      "7     Spain   NaN  52000.0        No\n",
      "8    France  48.0  79000.0       Yes\n",
      "9   Germany  50.0  83000.0        No\n",
      "10   France  37.0  67000.0       Yes\n",
      "11    Spain  45.0  55000.0        No\n"
     ]
    }
   ],
   "source": [
    "datasets.dropna(how='all',inplace=True)\n",
    "print(\"\\nNew Data :\",datasets)"
   ]
  },
  {
   "cell_type": "code",
   "execution_count": 6,
   "metadata": {},
   "outputs": [
    {
     "name": "stdout",
     "output_type": "stream",
     "text": [
      "\n",
      "\n",
      "New Input with Mean Value for NaN : \n",
      "\n",
      " [['France' 44.0 72000.0]\n",
      " ['Spain' 27.0 48000.0]\n",
      " ['Germany' 30.0 54000.0]\n",
      " ['Spain' 38.0 61000.0]\n",
      " ['Germany' 40.0 62900.0]\n",
      " ['France' 35.0 58000.0]\n",
      " ['Spain' 39.4 52000.0]\n",
      " ['France' 48.0 79000.0]\n",
      " ['Germany' 50.0 83000.0]\n",
      " ['France' 37.0 67000.0]\n",
      " ['Spain' 45.0 55000.0]]\n"
     ]
    },
    {
     "name": "stderr",
     "output_type": "stream",
     "text": [
      "/home/rahul/anaconda3/lib/python3.7/importlib/_bootstrap.py:219: RuntimeWarning: numpy.ufunc size changed, may indicate binary incompatibility. Expected 192 from C header, got 216 from PyObject\n",
      "  return f(*args, **kwds)\n"
     ]
    }
   ],
   "source": [
    "new_X = datasets.iloc[:, :-1].values\n",
    "new_Y = datasets.iloc[:, -1].values\n",
    "imputer = SimpleImputer(missing_values = np.nan,strategy = \"mean\")\n",
    "imputer = imputer.fit(new_X[:, 1:3])\n",
    "new_X[:, 1:3] = imputer.transform(new_X[:, 1:3])\n",
    "print(\"\\n\\nNew Input with Mean Value for NaN : \\n\\n\", new_X)"
   ]
  },
  {
   "cell_type": "code",
   "execution_count": null,
   "metadata": {},
   "outputs": [],
   "source": []
  }
 ],
 "metadata": {
  "kernelspec": {
   "display_name": "Python 3",
   "language": "python",
   "name": "python3"
  },
  "language_info": {
   "codemirror_mode": {
    "name": "ipython",
    "version": 3
   },
   "file_extension": ".py",
   "mimetype": "text/x-python",
   "name": "python",
   "nbconvert_exporter": "python",
   "pygments_lexer": "ipython3",
   "version": "3.7.3"
  }
 },
 "nbformat": 4,
 "nbformat_minor": 2
}
