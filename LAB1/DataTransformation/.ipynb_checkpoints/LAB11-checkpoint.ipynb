{
 "cells": [
  {
   "cell_type": "code",
   "execution_count": 2,
   "metadata": {},
   "outputs": [
    {
     "name": "stderr",
     "output_type": "stream",
     "text": [
      "/home/rahul/anaconda3/lib/python3.7/importlib/_bootstrap.py:219: RuntimeWarning: numpy.ufunc size changed, may indicate binary incompatibility. Expected 216, got 192\n",
      "  return f(*args, **kwds)\n",
      "/home/rahul/anaconda3/lib/python3.7/importlib/_bootstrap.py:219: RuntimeWarning: numpy.ufunc size changed, may indicate binary incompatibility. Expected 216, got 192\n",
      "  return f(*args, **kwds)\n"
     ]
    }
   ],
   "source": [
    "import numpy as np\n",
    "import pandas as pd\n",
    "from sklearn.preprocessing import MinMaxScaler,StandardScaler"
   ]
  },
  {
   "cell_type": "code",
   "execution_count": 5,
   "metadata": {},
   "outputs": [
    {
     "name": "stdout",
     "output_type": "stream",
     "text": [
      "\n",
      "Data : \n",
      "     Country  Age  Salary Purchased\n",
      "0    France   44   72000        No\n",
      "1     Spain   27   48000       Yes\n",
      "2   Germany   30   54000        No\n",
      "3     Spain   38   61000        No\n",
      "4   Germany   40   68000       Yes\n",
      "5    France   35   58000       Yes\n",
      "6     Spain   39   52000        No\n",
      "7    France   48   79000       Yes\n",
      "8   Germany   50   83000        No\n",
      "9    France   37   67000       Yes\n",
      "10    Spain   45   55000        No\n"
     ]
    }
   ],
   "source": [
    "datasets = pd.read_csv('Data_for_Transformation.csv')\n",
    "print('\\nData : \\n',datasets)"
   ]
  },
  {
   "cell_type": "code",
   "execution_count": 8,
   "metadata": {},
   "outputs": [
    {
     "name": "stdout",
     "output_type": "stream",
     "text": [
      "\n",
      "\n",
      "X for transformation : \n",
      " [[   44 72000]\n",
      " [   27 48000]\n",
      " [   30 54000]\n",
      " [   38 61000]\n",
      " [   40 68000]\n",
      " [   35 58000]\n",
      " [   39 52000]\n",
      " [   48 79000]\n",
      " [   50 83000]\n",
      " [   37 67000]\n",
      " [   45 55000]]\n"
     ]
    }
   ],
   "source": [
    "X = datasets.iloc[:,:-1].values\n",
    "Y = datasets.iloc[:,:-1].values\n",
    "X_new = datasets.iloc[:,1:3].values\n",
    "print(\"\\n\\nX for transformation : \\n\",X_new)"
   ]
  },
  {
   "cell_type": "code",
   "execution_count": 10,
   "metadata": {},
   "outputs": [
    {
     "name": "stdout",
     "output_type": "stream",
     "text": [
      "\n",
      "\n",
      "Scaled X : \n",
      " [[0.73913043 0.68571429]\n",
      " [0.         0.        ]\n",
      " [0.13043478 0.17142857]\n",
      " [0.47826087 0.37142857]\n",
      " [0.56521739 0.57142857]\n",
      " [0.34782609 0.28571429]\n",
      " [0.52173913 0.11428571]\n",
      " [0.91304348 0.88571429]\n",
      " [1.         1.        ]\n",
      " [0.43478261 0.54285714]\n",
      " [0.7826087  0.2       ]]\n"
     ]
    }
   ],
   "source": [
    "scaler = MinMaxScaler()\n",
    "X_scaled = scaler.fit_transform(X_new)\n",
    "print(\"\\n\\nScaled X : \\n\",X_scaled)"
   ]
  },
  {
   "cell_type": "code",
   "execution_count": 12,
   "metadata": {},
   "outputs": [
    {
     "name": "stdout",
     "output_type": "stream",
     "text": [
      "\n",
      "\n",
      "Standerdization X :\n",
      " [[ 0.68188156  0.79548755]\n",
      " [-1.81835082 -1.41513049]\n",
      " [-1.37713334 -0.86247598]\n",
      " [-0.2005534  -0.21771238]\n",
      " [ 0.09359159  0.42705121]\n",
      " [-0.64177088 -0.49403964]\n",
      " [-0.05348091 -1.04669415]\n",
      " [ 1.27017153  1.44025115]\n",
      " [ 1.56431652  1.80868749]\n",
      " [-0.34762589  0.33494213]\n",
      " [ 0.82895405 -0.77036689]]\n"
     ]
    }
   ],
   "source": [
    "std = StandardScaler()\n",
    "X_std = std.fit_transform(X_new)\n",
    "print(\"\\n\\nStanderdization X :\\n\",X_std)"
   ]
  },
  {
   "cell_type": "code",
   "execution_count": null,
   "metadata": {},
   "outputs": [],
   "source": []
  }
 ],
 "metadata": {
  "kernelspec": {
   "display_name": "Python 3",
   "language": "python",
   "name": "python3"
  },
  "language_info": {
   "codemirror_mode": {
    "name": "ipython",
    "version": 3
   },
   "file_extension": ".py",
   "mimetype": "text/x-python",
   "name": "python",
   "nbconvert_exporter": "python",
   "pygments_lexer": "ipython3",
   "version": "3.7.3"
  }
 },
 "nbformat": 4,
 "nbformat_minor": 2
}
